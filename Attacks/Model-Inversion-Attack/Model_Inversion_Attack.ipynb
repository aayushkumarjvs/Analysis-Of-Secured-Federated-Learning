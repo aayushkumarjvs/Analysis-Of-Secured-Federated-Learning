{
  "nbformat": 4,
  "nbformat_minor": 0,
  "metadata": {
    "colab": {
      "provenance": []
    },
    "kernelspec": {
      "name": "python3",
      "display_name": "Python 3"
    },
    "language_info": {
      "name": "python"
    }
  },
  "cells": [
    {
      "cell_type": "code",
      "execution_count": null,
      "metadata": {
        "colab": {
          "base_uri": "https://localhost:8080/"
        },
        "id": "vldfm3bKw08K",
        "outputId": "58e3d4e7-92dd-4350-cfda-8ad9aba48595"
      },
      "outputs": [
        {
          "output_type": "stream",
          "name": "stdout",
          "text": [
            "Reading package lists... Done\n",
            "Building dependency tree       \n",
            "Reading state information... Done\n",
            "libboost-all-dev is already the newest version (1.71.0.0ubuntu2).\n",
            "0 upgraded, 0 newly installed, 0 to remove and 24 not upgraded.\n",
            "Looking in indexes: https://pypi.org/simple, https://us-python.pkg.dev/colab-wheels/public/simple/\n",
            "Requirement already satisfied: pip in /usr/local/lib/python3.10/dist-packages (23.1.2)\n",
            "Looking in indexes: https://pypi.org/simple, https://us-python.pkg.dev/colab-wheels/public/simple/\n",
            "Collecting pybind11[global]\n",
            "  Downloading pybind11-2.10.4-py3-none-any.whl (222 kB)\n",
            "\u001b[2K     \u001b[90m━━━━━━━━━━━━━━━━━━━━━━━━━━━━━━━━━━━━━━━\u001b[0m \u001b[32m222.3/222.3 kB\u001b[0m \u001b[31m5.1 MB/s\u001b[0m eta \u001b[36m0:00:00\u001b[0m\n",
            "\u001b[?25hCollecting pybind11-global==2.10.4 (from pybind11[global])\n",
            "  Downloading pybind11_global-2.10.4-py3-none-any.whl (401 kB)\n",
            "\u001b[2K     \u001b[90m━━━━━━━━━━━━━━━━━━━━━━━━━━━━━━━━━━━━━━\u001b[0m \u001b[32m401.4/401.4 kB\u001b[0m \u001b[31m20.5 MB/s\u001b[0m eta \u001b[36m0:00:00\u001b[0m\n",
            "\u001b[?25hInstalling collected packages: pybind11-global, pybind11\n",
            "Successfully installed pybind11-2.10.4 pybind11-global-2.10.4\n"
          ]
        }
      ],
      "source": [
        "# https://github.com/Koukyosyumei/AIJack\n",
        "!apt install -y libboost-all-dev\n",
        "!pip install -U pip\n",
        "!pip install \"pybind11[global]\""
      ]
    },
    {
      "cell_type": "code",
      "source": [
        "!pip install aijack"
      ],
      "metadata": {
        "colab": {
          "base_uri": "https://localhost:8080/"
        },
        "id": "nvx80cyo9fE0",
        "outputId": "d6cf4484-3953-496b-cfa2-fa162cf0a14d"
      },
      "execution_count": null,
      "outputs": [
        {
          "output_type": "stream",
          "name": "stdout",
          "text": [
            "Looking in indexes: https://pypi.org/simple, https://us-python.pkg.dev/colab-wheels/public/simple/\n",
            "Collecting aijack\n",
            "  Downloading aijack-0.0.1a2.tar.gz (129 kB)\n",
            "\u001b[2K     \u001b[90m━━━━━━━━━━━━━━━━━━━━━━━━━━━━━━━━━━━━━━━\u001b[0m \u001b[32m129.8/129.8 kB\u001b[0m \u001b[31m3.2 MB/s\u001b[0m eta \u001b[36m0:00:00\u001b[0m\n",
            "\u001b[?25h  Installing build dependencies ... \u001b[?25l\u001b[?25hdone\n",
            "  Getting requirements to build wheel ... \u001b[?25l\u001b[?25hdone\n",
            "  Preparing metadata (pyproject.toml) ... \u001b[?25l\u001b[?25hdone\n",
            "Requirement already satisfied: numpy in /usr/local/lib/python3.10/dist-packages (from aijack) (1.22.4)\n",
            "Requirement already satisfied: pandas in /usr/local/lib/python3.10/dist-packages (from aijack) (1.5.3)\n",
            "Requirement already satisfied: tqdm in /usr/local/lib/python3.10/dist-packages (from aijack) (4.65.0)\n",
            "Requirement already satisfied: scikit-learn in /usr/local/lib/python3.10/dist-packages (from aijack) (1.2.2)\n",
            "Requirement already satisfied: torch>=1.11.0 in /usr/local/lib/python3.10/dist-packages (from aijack) (2.0.1+cu118)\n",
            "Requirement already satisfied: torchvision in /usr/local/lib/python3.10/dist-packages (from aijack) (0.15.2+cu118)\n",
            "Requirement already satisfied: pybind11 in /usr/local/lib/python3.10/dist-packages (from aijack) (2.10.4)\n",
            "Requirement already satisfied: matplotlib in /usr/local/lib/python3.10/dist-packages (from aijack) (3.7.1)\n",
            "Collecting mpi4py (from aijack)\n",
            "  Downloading mpi4py-3.1.4.tar.gz (2.5 MB)\n",
            "\u001b[2K     \u001b[90m━━━━━━━━━━━━━━━━━━━━━━━━━━━━━━━━━━━━━━━━\u001b[0m \u001b[32m2.5/2.5 MB\u001b[0m \u001b[31m34.6 MB/s\u001b[0m eta \u001b[36m0:00:00\u001b[0m\n",
            "\u001b[?25h  Installing build dependencies ... \u001b[?25l\u001b[?25hdone\n",
            "  Getting requirements to build wheel ... \u001b[?25l\u001b[?25hdone\n",
            "  Preparing metadata (pyproject.toml) ... \u001b[?25l\u001b[?25hdone\n",
            "Requirement already satisfied: filelock in /usr/local/lib/python3.10/dist-packages (from torch>=1.11.0->aijack) (3.12.0)\n",
            "Requirement already satisfied: typing-extensions in /usr/local/lib/python3.10/dist-packages (from torch>=1.11.0->aijack) (4.5.0)\n",
            "Requirement already satisfied: sympy in /usr/local/lib/python3.10/dist-packages (from torch>=1.11.0->aijack) (1.11.1)\n",
            "Requirement already satisfied: networkx in /usr/local/lib/python3.10/dist-packages (from torch>=1.11.0->aijack) (3.1)\n",
            "Requirement already satisfied: jinja2 in /usr/local/lib/python3.10/dist-packages (from torch>=1.11.0->aijack) (3.1.2)\n",
            "Requirement already satisfied: triton==2.0.0 in /usr/local/lib/python3.10/dist-packages (from torch>=1.11.0->aijack) (2.0.0)\n",
            "Requirement already satisfied: cmake in /usr/local/lib/python3.10/dist-packages (from triton==2.0.0->torch>=1.11.0->aijack) (3.25.2)\n",
            "Requirement already satisfied: lit in /usr/local/lib/python3.10/dist-packages (from triton==2.0.0->torch>=1.11.0->aijack) (16.0.5)\n",
            "Requirement already satisfied: contourpy>=1.0.1 in /usr/local/lib/python3.10/dist-packages (from matplotlib->aijack) (1.0.7)\n",
            "Requirement already satisfied: cycler>=0.10 in /usr/local/lib/python3.10/dist-packages (from matplotlib->aijack) (0.11.0)\n",
            "Requirement already satisfied: fonttools>=4.22.0 in /usr/local/lib/python3.10/dist-packages (from matplotlib->aijack) (4.39.3)\n",
            "Requirement already satisfied: kiwisolver>=1.0.1 in /usr/local/lib/python3.10/dist-packages (from matplotlib->aijack) (1.4.4)\n",
            "Requirement already satisfied: packaging>=20.0 in /usr/local/lib/python3.10/dist-packages (from matplotlib->aijack) (23.1)\n",
            "Requirement already satisfied: pillow>=6.2.0 in /usr/local/lib/python3.10/dist-packages (from matplotlib->aijack) (8.4.0)\n",
            "Requirement already satisfied: pyparsing>=2.3.1 in /usr/local/lib/python3.10/dist-packages (from matplotlib->aijack) (3.0.9)\n",
            "Requirement already satisfied: python-dateutil>=2.7 in /usr/local/lib/python3.10/dist-packages (from matplotlib->aijack) (2.8.2)\n",
            "Requirement already satisfied: pytz>=2020.1 in /usr/local/lib/python3.10/dist-packages (from pandas->aijack) (2022.7.1)\n",
            "Requirement already satisfied: pybind11-global==2.10.4 in /usr/local/lib/python3.10/dist-packages (from pybind11->aijack) (2.10.4)\n",
            "Requirement already satisfied: scipy>=1.3.2 in /usr/local/lib/python3.10/dist-packages (from scikit-learn->aijack) (1.10.1)\n",
            "Requirement already satisfied: joblib>=1.1.1 in /usr/local/lib/python3.10/dist-packages (from scikit-learn->aijack) (1.2.0)\n",
            "Requirement already satisfied: threadpoolctl>=2.0.0 in /usr/local/lib/python3.10/dist-packages (from scikit-learn->aijack) (3.1.0)\n",
            "Requirement already satisfied: requests in /usr/local/lib/python3.10/dist-packages (from torchvision->aijack) (2.27.1)\n",
            "Requirement already satisfied: six>=1.5 in /usr/local/lib/python3.10/dist-packages (from python-dateutil>=2.7->matplotlib->aijack) (1.16.0)\n",
            "Requirement already satisfied: MarkupSafe>=2.0 in /usr/local/lib/python3.10/dist-packages (from jinja2->torch>=1.11.0->aijack) (2.1.2)\n",
            "Requirement already satisfied: urllib3<1.27,>=1.21.1 in /usr/local/lib/python3.10/dist-packages (from requests->torchvision->aijack) (1.26.15)\n",
            "Requirement already satisfied: certifi>=2017.4.17 in /usr/local/lib/python3.10/dist-packages (from requests->torchvision->aijack) (2022.12.7)\n",
            "Requirement already satisfied: charset-normalizer~=2.0.0 in /usr/local/lib/python3.10/dist-packages (from requests->torchvision->aijack) (2.0.12)\n",
            "Requirement already satisfied: idna<4,>=2.5 in /usr/local/lib/python3.10/dist-packages (from requests->torchvision->aijack) (3.4)\n",
            "Requirement already satisfied: mpmath>=0.19 in /usr/local/lib/python3.10/dist-packages (from sympy->torch>=1.11.0->aijack) (1.3.0)\n",
            "Building wheels for collected packages: aijack, mpi4py\n",
            "  Building wheel for aijack (pyproject.toml) ... \u001b[?25l\u001b[?25hdone\n",
            "  Created wheel for aijack: filename=aijack-0.0.1a2-cp310-cp310-linux_x86_64.whl size=531178 sha256=144cb153be03a8e84c4942b0426e77a530fc664b4cb8409d84da03629820ba73\n",
            "  Stored in directory: /root/.cache/pip/wheels/a3/91/c5/ccfc7d5a68b78e39783a9a7e4c3906f5d362368aa6a85ba773\n",
            "  Building wheel for mpi4py (pyproject.toml) ... \u001b[?25l\u001b[?25hdone\n",
            "  Created wheel for mpi4py: filename=mpi4py-3.1.4-cp310-cp310-linux_x86_64.whl size=3365660 sha256=a1e8eafb1d146a2d18ac64ad83cc96b0bf3e3a2e7ca48374c27cf73072b4d62e\n",
            "  Stored in directory: /root/.cache/pip/wheels/e8/1b/b5/97ec4cfccdde26e0f3590ad6e09a5242d508dff09704ef86c1\n",
            "Successfully built aijack mpi4py\n",
            "Installing collected packages: mpi4py, aijack\n",
            "Successfully installed aijack-0.0.1a2 mpi4py-3.1.4\n"
          ]
        }
      ]
    },
    {
      "cell_type": "code",
      "source": [
        "import cv2\n",
        "import copy\n",
        "import torch\n",
        "import torch.nn as nn\n",
        "import torchvision\n",
        "import torchvision.transforms as transforms\n",
        "from numpy import e\n",
        "from matplotlib import pyplot as plt\n",
        "import torch.optim as optim\n",
        "from tqdm.notebook import tqdm\n",
        "\n",
        "from aijack.collaborative.fedavg import FedAVGAPI, FedAVGClient, FedAVGServer\n",
        "from aijack.attack.inversion import GradientInversionAttackServerManager\n",
        "from torch.utils.data import DataLoader, TensorDataset\n",
        "from aijack.utils import NumpyDataset\n",
        "\n",
        "import warnings\n",
        "\n",
        "warnings.filterwarnings(\"ignore\")"
      ],
      "metadata": {
        "id": "SYetnTV09duY"
      },
      "execution_count": null,
      "outputs": []
    },
    {
      "cell_type": "code",
      "source": [
        "#making convolution neural layer\n",
        "class LeNet(nn.Module):\n",
        "    def __init__(self, channel=3, hideen=768, num_classes=10):\n",
        "        super(LeNet, self).__init__()\n",
        "        act = nn.Sigmoid\n",
        "        self.body = nn.Sequential(\n",
        "            nn.Conv2d(channel, 12, kernel_size=5, padding=5 // 2, stride=2),\n",
        "            nn.BatchNorm2d(12),\n",
        "            act(),\n",
        "            nn.Conv2d(12, 12, kernel_size=5, padding=5 // 2, stride=2),\n",
        "            nn.BatchNorm2d(12),\n",
        "            act(),\n",
        "            nn.Conv2d(12, 12, kernel_size=5, padding=5 // 2, stride=1),\n",
        "            nn.BatchNorm2d(12),\n",
        "            act(),\n",
        "        )\n",
        "        self.fc = nn.Sequential(nn.Linear(hideen, num_classes))\n",
        "\n",
        "    def forward(self, x):\n",
        "        out = self.body(x)\n",
        "        out = out.view(out.size(0), -1)\n",
        "        out = self.fc(out)\n",
        "        return out"
      ],
      "metadata": {
        "id": "0cAKg_qc-Slz"
      },
      "execution_count": null,
      "outputs": []
    },
    {
      "cell_type": "code",
      "source": [
        "#Data preparation and conversion/transform of PIL into numpy arrays\n",
        "def prepare_dataloader(path=\"MNIST/.\", batch_size=64, shuffle=True):\n",
        "    at_t_dataset_train = torchvision.datasets.MNIST(\n",
        "        root=path, train=True, download=True\n",
        "    )\n",
        "\n",
        "    transform = transforms.Compose(\n",
        "        [transforms.ToTensor(), transforms.Normalize((0.5,), (0.5,))]\n",
        "    )\n",
        "\n",
        "    dataset = NumpyDataset(\n",
        "        at_t_dataset_train.train_data.numpy(),\n",
        "        at_t_dataset_train.train_labels.numpy(),\n",
        "        transform=transform,\n",
        "    )\n",
        "\n",
        "    dataloader = torch.utils.data.DataLoader(\n",
        "        dataset, batch_size=batch_size, shuffle=shuffle, num_workers=0\n",
        "    )\n",
        "    return dataloader"
      ],
      "metadata": {
        "id": "9ereeyJn-bz0"
      },
      "execution_count": null,
      "outputs": []
    },
    {
      "cell_type": "code",
      "source": [
        "torch.manual_seed(7777) #torch.manual_seed function. Setting a random seed ensures that the random processes within PyTorch\n",
        "\n",
        "shape_img = (28, 28)\n",
        "num_classes = 10\n",
        "channel = 1 #grayscale imgs\n",
        "hidden = 588 #This line sets the number of hidden units (or neurons) in the fully connected layer of the LeNet architecture. The value of 588 is applicabel to this implementation.\n",
        "\n",
        "num_seeds = 5"
      ],
      "metadata": {
        "id": "1oNvEhYK-hXH"
      },
      "execution_count": null,
      "outputs": []
    },
    {
      "cell_type": "markdown",
      "source": [
        "Reconstruct single data"
      ],
      "metadata": {
        "id": "mOTsi05oDq3W"
      }
    },
    {
      "cell_type": "code",
      "source": [
        "device = torch.device(\"cuda:0\") if torch.cuda.is_available() else \"cpu\" #device usage if gpu available else use cpu\n",
        "dataloader = prepare_dataloader()\n",
        "for data in dataloader:\n",
        "    xs, ys = data[0], data[1] #The data loader will provide batches of training samples for iteration.\n",
        "    break\n",
        "\n",
        "x = xs[:1]\n",
        "y = ys[:1] #select first 4 samples from xs and ys, representing a subset of the input images and their labels.\n",
        "\n",
        "fig = plt.figure(figsize=(1, 1)) #visualizes the first image in the selected subset (x).\n",
        "plt.axis(\"off\")\n",
        "plt.imshow(x.detach().numpy()[0][0], cmap=\"gray\")\n",
        "plt.show()"
      ],
      "metadata": {
        "colab": {
          "base_uri": "https://localhost:8080/",
          "height": 114
        },
        "id": "eOWqqEMI-kpB",
        "outputId": "6af6969b-8e62-4f25-a123-899d72836c32"
      },
      "execution_count": null,
      "outputs": [
        {
          "output_type": "display_data",
          "data": {
            "text/plain": [
              "<Figure size 100x100 with 1 Axes>"
            ],
            "image/png": "[encoded data removed]"
          },
          "metadata": {}
        }
      ]
    },
    {
      "cell_type": "code",
      "source": [
        "criterion = nn.CrossEntropyLoss() \n",
        "#a loss function is used to quantify the difference between the predicted output and the ground truth labels. \n",
        "#The CrossEntropyLoss function combines two components: softmax activation and the negative log-likelihood loss.\n",
        "#By using the CrossEntropyLoss function as the criterion, you can train your neural network using techniques such as gradient descent \n",
        "#to minimize the loss and improve the network's ability to correctly classify the input data.\n"
      ],
      "metadata": {
        "id": "49jCu-iG_GCh"
      },
      "execution_count": null,
      "outputs": []
    },
    {
      "cell_type": "markdown",
      "source": [
        "Deep leakage from gradient (DLG)\n",
        "\n",
        "You can convert the normal server to the malicious attacker with GradientInversionAttackServerManager.\n",
        "\n",
        "https://dlg.mit.edu/assets/NeurIPS19_deep_leakage_from_gradients.pdf\n",
        "\n",
        "distance metric = L2 norm\n",
        "\n",
        "optimize labels"
      ],
      "metadata": {
        "id": "VMwUjTiZDj1e"
      }
    },
    {
      "cell_type": "code",
      "source": [
        "manager = GradientInversionAttackServerManager(\n",
        "    (1, 28, 28),\n",
        "    num_trial_per_communication=5,\n",
        "    log_interval=0,\n",
        "    num_iteration=100,\n",
        "    distancename=\"l2\",\n",
        "    device=device,\n",
        "    lr=1.0,\n",
        ")\n",
        "DLGFedAVGServer = manager.attach(FedAVGServer)\n",
        "\n",
        "client = FedAVGClient(\n",
        "    LeNet(channel=channel, hideen=hidden, num_classes=num_classes).to(device),\n",
        "    lr=1.0,\n",
        "    device=device,\n",
        ")\n",
        "server = DLGFedAVGServer(\n",
        "    [client],\n",
        "    LeNet(channel=channel, hideen=hidden, num_classes=num_classes).to(device),\n",
        "    lr=1.0,\n",
        "    device=device,\n",
        ")\n",
        "\n",
        "local_dataloaders = [DataLoader(TensorDataset(x, y))]\n",
        "local_optimizers = [optim.SGD(client.parameters(), lr=1.0)]\n",
        "\n",
        "api = FedAVGAPI(\n",
        "    server,\n",
        "    [client],\n",
        "    criterion,\n",
        "    local_optimizers,\n",
        "    local_dataloaders,\n",
        "    num_communication=1,\n",
        "    local_epoch=1,\n",
        "    use_gradients=True,\n",
        "    device=device,\n",
        ")\n",
        "\n",
        "api.run()\n",
        "\n",
        "fig = plt.figure(figsize=(5, 2))\n",
        "for s, result in enumerate(server.attack_results[0]):\n",
        "    ax = fig.add_subplot(1, len(server.attack_results[0]), s + 1)\n",
        "    ax.imshow(result[0].cpu().detach().numpy()[0][0], cmap=\"gray\")\n",
        "    ax.axis(\"off\")\n",
        "plt.tight_layout()\n",
        "plt.show()"
      ],
      "metadata": {
        "colab": {
          "base_uri": "https://localhost:8080/",
          "height": 228
        },
        "id": "cN8sJwJOALlg",
        "outputId": "284ae813-35be-4ca0-e0c3-ec3f92c05f2c"
      },
      "execution_count": null,
      "outputs": [
        {
          "output_type": "stream",
          "name": "stdout",
          "text": [
            "communication 0, epoch 0: client-1 2.1279006004333496\n",
            "iter=71: loss did not improve in the last 50 rounds.\n",
            "iter=64: loss did not improve in the last 50 rounds.\n",
            "iter=69: loss did not improve in the last 50 rounds.\n",
            "iter=66: loss did not improve in the last 50 rounds.\n",
            "iter=64: loss did not improve in the last 50 rounds.\n"
          ]
        },
        {
          "output_type": "display_data",
          "data": {
            "text/plain": [
              "<Figure size 500x200 with 5 Axes>"
            ],
            "image/png": "[encoded data removed]"
          },
          "metadata": {}
        }
      ]
    },
    {
      "cell_type": "markdown",
      "source": [
        "Deep Leakage from Gradient\n"
      ],
      "metadata": {
        "id": "gCyn_JnuDIdc"
      }
    },
    {
      "cell_type": "code",
      "source": [
        "manager = GradientInversionAttackServerManager(\n",
        "    (1, 28, 28),\n",
        "    num_trial_per_communication=5,\n",
        "    log_interval=0,\n",
        "    num_iteration=100,\n",
        "    tv_reg_coef=0.01,\n",
        "    distancename=\"cossim\",\n",
        "    device=device,\n",
        "    lr=1.0,\n",
        ")\n",
        "GSFedAVGServer = manager.attach(FedAVGServer)\n",
        "\n",
        "client = FedAVGClient(\n",
        "    LeNet(channel=channel, hideen=hidden, num_classes=num_classes).to(device),\n",
        "    lr=1.0,\n",
        "    device=device,\n",
        ")\n",
        "server = GSFedAVGServer(\n",
        "    [client],\n",
        "    LeNet(channel=channel, hideen=hidden, num_classes=num_classes).to(device),\n",
        "    lr=1.0,\n",
        "    device=device,\n",
        ")\n",
        "\n",
        "local_dataloaders = [DataLoader(TensorDataset(x, y))]\n",
        "local_optimizers = [optim.SGD(client.parameters(), lr=1.0)]\n",
        "\n",
        "api = FedAVGAPI(\n",
        "    server,\n",
        "    [client],\n",
        "    criterion,\n",
        "    local_optimizers,\n",
        "    local_dataloaders,\n",
        "    num_communication=1,\n",
        "    local_epoch=1,\n",
        "    use_gradients=True,\n",
        "    device=device,\n",
        ")\n",
        "\n",
        "api.run()\n",
        "\n",
        "fig = plt.figure(figsize=(5, 2))\n",
        "for s, result in enumerate(server.attack_results[0]):\n",
        "    ax = fig.add_subplot(1, len(server.attack_results[0]), s + 1)\n",
        "    ax.imshow(result[0].cpu().detach().numpy()[0][0], cmap=\"gray\")\n",
        "    ax.axis(\"off\")\n",
        "plt.tight_layout()\n",
        "plt.show()"
      ],
      "metadata": {
        "colab": {
          "base_uri": "https://localhost:8080/",
          "height": 234
        },
        "id": "cjs_4_1OAZ92",
        "outputId": "f888b0dd-8671-4853-f112-244522a767b4"
      },
      "execution_count": null,
      "outputs": [
        {
          "output_type": "stream",
          "name": "stdout",
          "text": [
            "communication 0, epoch 0: client-1 2.2911393642425537\n",
            "iter=78: loss did not improve in the last 50 rounds.\n",
            "iter=72: loss did not improve in the last 50 rounds.\n",
            "iter=90: loss did not improve in the last 50 rounds.\n",
            "iter=71: loss did not improve in the last 50 rounds.\n"
          ]
        },
        {
          "output_type": "display_data",
          "data": {
            "text/plain": [
              "<Figure size 500x200 with 4 Axes>"
            ],
            "image/png": "[encoded data removed]"
          },
          "metadata": {}
        }
      ]
    },
    {
      "cell_type": "markdown",
      "source": [
        "iDLG Attack\n",
        "https://arxiv.org/abs/2001.02610\n",
        "\n",
        "distance metric = L2 norm\n",
        "\n",
        "analytically estimate a label from the gradients"
      ],
      "metadata": {
        "id": "A9uMIqXuNgrv"
      }
    },
    {
      "cell_type": "code",
      "source": [
        "manager = GradientInversionAttackServerManager(\n",
        "    (1, 28, 28),\n",
        "    num_trial_per_communication=5,\n",
        "    log_interval=0,\n",
        "    num_iteration=1000,\n",
        "    optimizer_class=torch.optim.SGD,\n",
        "    distancename=\"l2\",\n",
        "    optimize_label=False,\n",
        "    device=device,\n",
        "    lr=1.0,\n",
        ")\n",
        "iDLGFedAVGServer = manager.attach(FedAVGServer)\n",
        "\n",
        "client = FedAVGClient(\n",
        "    LeNet(channel=channel, hideen=hidden, num_classes=num_classes).to(device),\n",
        "    lr=1.0,\n",
        "    device=device,\n",
        ")\n",
        "server = iDLGFedAVGServer(\n",
        "    [client],\n",
        "    LeNet(channel=channel, hideen=hidden, num_classes=num_classes).to(device),\n",
        "    lr=1.0,\n",
        "    device=device,\n",
        ")\n",
        "\n",
        "local_dataloaders = [DataLoader(TensorDataset(x, y))]\n",
        "local_optimizers = [optim.SGD(client.parameters(), lr=1.0)]\n",
        "\n",
        "api = FedAVGAPI(\n",
        "    server,\n",
        "    [client],\n",
        "    criterion,\n",
        "    local_optimizers,\n",
        "    local_dataloaders,\n",
        "    num_communication=1,\n",
        "    local_epoch=1,\n",
        "    use_gradients=True,\n",
        "    device=device,\n",
        ")\n",
        "\n",
        "api.run()\n",
        "\n",
        "fig = plt.figure(figsize=(5, 2))\n",
        "for s, result in enumerate(server.attack_results[0]):\n",
        "    ax = fig.add_subplot(1, len(server.attack_results[0]), s + 1)\n",
        "    ax.imshow(result[0].cpu().detach().numpy()[0][0], cmap=\"gray\")\n",
        "    ax.axis(\"off\")\n",
        "plt.tight_layout()\n",
        "plt.show()\n"
      ],
      "metadata": {
        "colab": {
          "base_uri": "https://localhost:8080/",
          "height": 137
        },
        "id": "eCr4JtG-NcvU",
        "outputId": "d85b448b-2935-4f04-f1b4-b980c1dfd568"
      },
      "execution_count": null,
      "outputs": [
        {
          "output_type": "stream",
          "name": "stdout",
          "text": [
            "communication 0, epoch 0: client-1 2.2911393642425537\n"
          ]
        },
        {
          "output_type": "display_data",
          "data": {
            "text/plain": [
              "<Figure size 500x200 with 5 Axes>"
            ],
            "image/png": "[encoded data removed]"
          },
          "metadata": {}
        }
      ]
    },
    {
      "cell_type": "markdown",
      "source": [
        "Reconstruct Batched Data\n",
        "\n",
        "Second, we simulate the situation with larger batch size. We try to recover the bellow three images."
      ],
      "metadata": {
        "id": "7YGX3tfFOTZ_"
      }
    },
    {
      "cell_type": "code",
      "source": [
        "batch_size = 3\n",
        "x_batch = xs[:batch_size]\n",
        "y_batch = ys[:batch_size]\n",
        "\n",
        "fig = plt.figure(figsize=(3, 2))\n",
        "for bi in range(batch_size):\n",
        "    ax = fig.add_subplot(1, batch_size, bi + 1)\n",
        "    ax.imshow(x_batch[bi].detach().numpy()[0], cmap=\"gray\")\n",
        "    ax.axis(\"off\")\n",
        "plt.tight_layout()\n",
        "plt.show()"
      ],
      "metadata": {
        "colab": {
          "base_uri": "https://localhost:8080/",
          "height": 117
        },
        "id": "uRKyTp1TOOjP",
        "outputId": "0a2858fa-76f2-4296-e07e-d567ba5ec0aa"
      },
      "execution_count": null,
      "outputs": [
        {
          "output_type": "display_data",
          "data": {
            "text/plain": [
              "<Figure size 300x200 with 3 Axes>"
            ],
            "image/png": "[encoded data removed]"
          },
          "metadata": {}
        }
      ]
    },
    {
      "cell_type": "markdown",
      "source": [
        "GradInversion\n",
        "https://arxiv.org/abs/2104.07586\n",
        "\n",
        "distance metric = L2 norm\n",
        "\n",
        "analytically estimate labels from the gradients\n",
        "\n",
        "reguralization: total-variance, l2, bn, and group-consistency"
      ],
      "metadata": {
        "id": "FF4Z89AeO7uk"
      }
    },
    {
      "cell_type": "code",
      "source": [
        "from aijack.attack.inversion import GradientInversion_Attack\n",
        "\n",
        "net = LeNet(channel=channel, hideen=hidden, num_classes=num_classes)\n",
        "pred = net(x_batch)\n",
        "loss = criterion(pred, y_batch)\n",
        "received_gradients = torch.autograd.grad(loss, net.parameters())\n",
        "received_gradients = [cg.detach() for cg in received_gradients]\n",
        "\n",
        "gradinversion = GradientInversion_Attack(\n",
        "    net,\n",
        "    (1, 28, 28),\n",
        "    num_iteration=1000,\n",
        "    lr=1e2,\n",
        "    log_interval=0,\n",
        "    optimizer_class=torch.optim.SGD,\n",
        "    distancename=\"l2\",\n",
        "    optimize_label=False,\n",
        "    bn_reg_layers=[net.body[1], net.body[4], net.body[7]],\n",
        "    group_num=3,\n",
        "    tv_reg_coef=0.00,\n",
        "    l2_reg_coef=0.0001,\n",
        "    bn_reg_coef=0.001,\n",
        "    gc_reg_coef=0.001,\n",
        ")\n",
        "\n",
        "result = gradinversion.group_attack(received_gradients, batch_size=batch_size)\n",
        "\n",
        "fig = plt.figure(figsize=(3, 2))\n",
        "for bid in range(batch_size):\n",
        "    ax1 = fig.add_subplot(1, batch_size, bid + 1)\n",
        "    ax1.imshow((sum(result[0]) / len(result[0])).detach().numpy()[bid][0], cmap=\"gray\")\n",
        "    ax1.axis(\"off\")\n",
        "plt.tight_layout()\n",
        "plt.show()"
      ],
      "metadata": {
        "colab": {
          "base_uri": "https://localhost:8080/",
          "height": 117
        },
        "id": "e1Di1zZnO4eD",
        "outputId": "e29efbf2-896e-4a50-9d5d-105869cdd54d"
      },
      "execution_count": null,
      "outputs": [
        {
          "output_type": "display_data",
          "data": {
            "text/plain": [
              "<Figure size 300x200 with 3 Axes>"
            ],
            "image/png": "[encoded data removed]"
          },
          "metadata": {}
        }
      ]
    },
    {
      "cell_type": "markdown",
      "source": [],
      "metadata": {
        "id": "284e2-n1O3dP"
      }
    }
  ]
}