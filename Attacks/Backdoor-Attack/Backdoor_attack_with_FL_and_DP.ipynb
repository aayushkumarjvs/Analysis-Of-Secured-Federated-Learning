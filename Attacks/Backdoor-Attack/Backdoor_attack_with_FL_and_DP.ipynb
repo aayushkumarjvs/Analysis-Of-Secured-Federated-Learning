{
  "nbformat": 4,
  "nbformat_minor": 0,
  "metadata": {
    "colab": {
      "provenance": []
    },
    "kernelspec": {
      "name": "python3",
      "display_name": "Python 3"
    },
    "language_info": {
      "name": "python"
    }
  },
  "cells": [
    {
      "cell_type": "code",
      "execution_count": null,
      "metadata": {
        "colab": {
          "base_uri": "https://localhost:8080/"
        },
        "id": "oldngem6CTJ1",
        "outputId": "b035f1a9-566a-4abf-ba88-6d6504babfd6"
      },
      "outputs": [
        {
          "output_type": "stream",
          "name": "stdout",
          "text": [
            "\u001b[31mERROR: pip's dependency resolver does not currently take into account all the packages that are installed. This behaviour is the source of the following dependency conflicts.\n",
            "tensorflow-privacy 0.8.8 requires dm-tree==0.1.7, but you have dm-tree 0.1.8 which is incompatible.\n",
            "tensorflow-privacy 0.8.8 requires dp-accounting==0.3.0, but you have dp-accounting 0.4.1 which is incompatible.\n",
            "tensorflow-federated 0.56.0 requires dm-tree==0.1.7, but you have dm-tree 0.1.8 which is incompatible.\n",
            "tensorflow-federated 0.56.0 requires dp-accounting==0.3.0, but you have dp-accounting 0.4.1 which is incompatible.\n",
            "chex 0.1.7 requires jax>=0.4.6, but you have jax 0.3.15 which is incompatible.\u001b[0m\u001b[31m\n",
            "\u001b[0m\u001b[31mERROR: pip's dependency resolver does not currently take into account all the packages that are installed. This behaviour is the source of the following dependency conflicts.\n",
            "chex 0.1.7 requires jax>=0.4.6, but you have jax 0.3.15 which is incompatible.\u001b[0m\u001b[31m\n",
            "\u001b[0m"
          ]
        }
      ],
      "source": [
        "!pip install --quiet --upgrade dp-accounting\n",
        "!pip install --quiet --upgrade tensorflow-federated"
      ]
    },
    {
      "cell_type": "code",
      "source": [
        "import collections\n",
        "import dp_accounting\n",
        "import numpy as np\n",
        "import pandas as pd\n",
        "import tensorflow as tf\n",
        "import tensorflow_federated as tff\n",
        "import tensorflow_privacy as tfp\n",
        "from tensorflow.keras import layers\n",
        "# import Tensorflow library and all necessary modules "
      ],
      "metadata": {
        "id": "eMV0tFJ_5eLV"
      },
      "execution_count": null,
      "outputs": []
    },
    {
      "cell_type": "code",
      "source": [
        "def add_backdoor_pattern(image, intensity=0.5, target_size=3): # Adding a backproagation pattern \n",
        "  backdoor_image = tf.identity(image)\n",
        "  backdoor_image = backdoor_image.numpy()\n",
        "  backdoor_image[-target_size:, :target_size] = intensity\n",
        "  return backdoor_image\n",
        "\n",
        "def get_emnist_dataset(): # LOADING emnist dataset\n",
        "  emnist_train, emnist_test = tff.simulation.datasets.emnist.load_data(\n",
        "      only_digits=True)\n",
        "    \n",
        "  def element_fn(element, backdoor_percentage=0.5, target_label=7): # give the element function\n",
        "    image = element['pixels']\n",
        "    label = element['label']\n",
        "\n",
        "    inject_backdoor = tf.random.uniform(shape=()) < backdoor_percentage\n",
        "\n",
        "    def backdoor_image_fn(): # adding the backdoor image function \n",
        "        target_size = 3\n",
        "        intensity = 0.5\n",
        "        backdoor_image = tf.identity(image)\n",
        "\n",
        "        watermark = tf.ones((target_size, target_size), dtype=tf.float32) * intensity\n",
        "        backdoor_image = backdoor_image * tf.pad(watermark, [[0, 28 - target_size], [0, 28 - target_size]])\n",
        "\n",
        "        return backdoor_image\n",
        "\n",
        "    def original_image_fn(): # function for determining the original image function\n",
        "        return image\n",
        "\n",
        "    image = tf.cond(inject_backdoor, backdoor_image_fn, original_image_fn)\n",
        "    label = tf.cond(inject_backdoor, lambda: tf.constant(target_label, dtype=tf.int32), lambda: label)\n",
        "\n",
        "    return collections.OrderedDict(x=tf.expand_dims(image, -1), y=label)\n",
        "\n",
        "\n",
        "  def preprocess_train_dataset(dataset, backdoor_percentage=0.5, target_label=7): # pre-processing the traning dataset\n",
        "    return (dataset.map(lambda x: element_fn(x, backdoor_percentage=backdoor_percentage, target_label=target_label))\n",
        "                    .shuffle(buffer_size=418)\n",
        "                    .repeat(1)\n",
        "                    .batch(32, drop_remainder=False))\n",
        "\n",
        "  def preprocess_test_dataset(dataset, backdoor_percentage=0.5, target_label=7): # pre-processing the testing dataset\n",
        "    return dataset.map(lambda x: element_fn(x, backdoor_percentage=backdoor_percentage, target_label=target_label)).batch(128, drop_remainder=False)\n",
        "\n",
        "  emnist_train = emnist_train.preprocess(lambda ds: preprocess_train_dataset(ds, backdoor_percentage=0.5, target_label=7))\n",
        "  emnist_test = preprocess_test_dataset(\n",
        "      emnist_test.create_tf_dataset_from_all_clients(), backdoor_percentage=0.5, target_label=7)\n",
        "  return emnist_train, emnist_test\n",
        "\n",
        "train_data, test_data = get_emnist_dataset()"
      ],
      "metadata": {
        "id": "Wy61vEVtSZr-"
      },
      "execution_count": null,
      "outputs": []
    },
    {
      "cell_type": "code",
      "source": [
        "def my_model_fn(): # defining the model\n",
        "  model = tf.keras.models.Sequential([ # creates a sequential model using tf.keras.models.Sequential\n",
        "      tf.keras.layers.Reshape(input_shape=(28, 28, 1), target_shape=(28 * 28,)),\n",
        "      tf.keras.layers.Dense(200, activation=tf.nn.relu),\n",
        "      tf.keras.layers.Dense(200, activation=tf.nn.relu),\n",
        "      tf.keras.layers.Dense(10)])\n",
        "  return tff.learning.models.from_keras_model(\n",
        "      keras_model=model,\n",
        "      loss=tf.keras.losses.SparseCategoricalCrossentropy(from_logits=True),\n",
        "      input_spec=test_data.element_spec,\n",
        "      metrics=[tf.keras.metrics.SparseCategoricalAccuracy()])\n",
        "  # We _must_ create a new model here, and _not_ capture it from an external\n",
        "  # TFF will call this within different graph contexts"
      ],
      "metadata": {
        "id": "ZYZ7Hm-s6Z1n"
      },
      "execution_count": null,
      "outputs": []
    },
    {
      "cell_type": "code",
      "execution_count": null,
      "metadata": {
        "id": "6-BZ_L4GMmXP"
      },
      "outputs": [],
      "source": [
        "total_clients = len(train_data.client_ids)\n",
        "def train(rounds, noise_multiplier, clients_per_round, data_frame):\n",
        "  # Using the `dp_aggregator` here turns on differential privacy with adaptive\n",
        "  # clipping.\n",
        "  aggregation_factory = tff.learning.model_update_aggregator.dp_aggregator(\n",
        "      noise_multiplier, clients_per_round)\n",
        "  # We use Poisson subsampling which gives slightly tighter privacy guarantees\n",
        "  # compared to having a fixed number of clients per round\n",
        "  # The actual number of\n",
        "  # clients per round is stochastic with mean clients_per_round\n",
        "  sampling_prob = clients_per_round / total_clients\n",
        "  # Build a federated averaging process.\n",
        "  # Typically a non-adaptive server optimizer is used because the noise in the\n",
        "  # updates can cause the second moment accumulators to become very large\n",
        "  learning_process = tff.learning.algorithms.build_unweighted_fed_avg(\n",
        "        my_model_fn,\n",
        "        client_optimizer_fn=lambda: tf.keras.optimizers.SGD(0.01),\n",
        "        server_optimizer_fn=lambda: tf.keras.optimizers.SGD(1.0, momentum=0.9),\n",
        "        model_aggregator=aggregation_factory)\n",
        "\n",
        "  eval_process = tff.learning.build_federated_evaluation(my_model_fn)\n",
        "    \n",
        "  # Training loop.\n",
        "  state = learning_process.initialize()\n",
        "  for round in range(rounds):\n",
        "    if round % 5 == 0:\n",
        "      model_weights = learning_process.get_model_weights(state)\n",
        "      metrics = eval_process(model_weights, [test_data])['eval']\n",
        "      if round < 25 or round % 25 == 0:\n",
        "        print(f'Round {round:3d}: {metrics}')\n",
        "      data_frame = data_frame.append({'Round': round,\n",
        "                                      'NoiseMultiplier': noise_multiplier,\n",
        "                                      **metrics}, ignore_index=True)\n",
        "    # Sample clients for a round \n",
        "    # sampling_prob is small \n",
        "    x = np.random.uniform(size=total_clients)\n",
        "    sampled_clients = [\n",
        "        train_data.client_ids[i] for i in range(total_clients)\n",
        "        if x[i] < sampling_prob]\n",
        "    sampled_train_data = [\n",
        "        train_data.create_tf_dataset_for_client(client)\n",
        "        for client in sampled_clients]\n",
        "    # Use selected clients for update.\n",
        "    result = learning_process.next(state, sampled_train_data)\n",
        "    state = result.state\n",
        "    metrics = result.metrics\n",
        "\n",
        "  model_weights = learning_process.get_model_weights(state)\n",
        "  metrics = eval_process(model_weights, [test_data])['eval']\n",
        "  print(f'Round {rounds:3d}: {metrics}')\n",
        "  data_frame = data_frame.append({'Round': rounds,\n",
        "                                  'NoiseMultiplier': noise_multiplier,\n",
        "                                  **metrics}, ignore_index=True)\n",
        "\n",
        "  return data_frame\n"
      ]
    },
    {
      "cell_type": "code",
      "source": [
        "data_frame = pd.DataFrame()\n",
        "rounds = 50\n",
        "clients_per_round = 50 # clients with 50 rounds of training\n",
        "\n",
        "for noise_multiplier in [0.0, 0.5, 0.75, 1.0]:\n",
        "  print(f'Starting training with noise multiplier: {noise_multiplier}')\n",
        "  data_frame = train(rounds, noise_multiplier, clients_per_round, data_frame)\n",
        "  print()"
      ],
      "metadata": {
        "colab": {
          "base_uri": "https://localhost:8080/"
        },
        "id": "kqZkYdrK6lqa",
        "outputId": "0e7a7d24-7e78-4615-a3a5-b551a7cfd993"
      },
      "execution_count": null,
      "outputs": [
        {
          "output_type": "stream",
          "name": "stdout",
          "text": [
            "Starting training with noise multiplier: 0.0\n"
          ]
        },
        {
          "output_type": "stream",
          "name": "stderr",
          "text": [
            "<ipython-input-65-261a4597242a>:24: DeprecationWarning: `tff.learning.build_federated_evaluation` is deprecated, use `tff.learning.algorithms.build_fed_eval` instead.\n",
            "  eval_process = tff.learning.build_federated_evaluation(my_model_fn)\n"
          ]
        },
        {
          "output_type": "stream",
          "name": "stdout",
          "text": [
            "Round   0: OrderedDict([('sparse_categorical_accuracy', 0.044695336), ('loss', 2.3787572), ('num_examples', 40832), ('num_batches', 319)])\n"
          ]
        },
        {
          "output_type": "stream",
          "name": "stderr",
          "text": [
            "<ipython-input-65-261a4597242a>:34: FutureWarning: The frame.append method is deprecated and will be removed from pandas in a future version. Use pandas.concat instead.\n",
            "  data_frame = data_frame.append({'Round': round,\n"
          ]
        },
        {
          "output_type": "stream",
          "name": "stdout",
          "text": [
            "Round   5: OrderedDict([('sparse_categorical_accuracy', 0.5473893), ('loss', 1.9812958), ('num_examples', 40832), ('num_batches', 319)])\n"
          ]
        },
        {
          "output_type": "stream",
          "name": "stderr",
          "text": [
            "<ipython-input-65-261a4597242a>:34: FutureWarning: The frame.append method is deprecated and will be removed from pandas in a future version. Use pandas.concat instead.\n",
            "  data_frame = data_frame.append({'Round': round,\n"
          ]
        },
        {
          "output_type": "stream",
          "name": "stdout",
          "text": [
            "Round  10: OrderedDict([('sparse_categorical_accuracy', 0.6016605), ('loss', 1.3039556), ('num_examples', 40832), ('num_batches', 319)])\n"
          ]
        },
        {
          "output_type": "stream",
          "name": "stderr",
          "text": [
            "<ipython-input-65-261a4597242a>:34: FutureWarning: The frame.append method is deprecated and will be removed from pandas in a future version. Use pandas.concat instead.\n",
            "  data_frame = data_frame.append({'Round': round,\n"
          ]
        },
        {
          "output_type": "stream",
          "name": "stdout",
          "text": [
            "Round  15: OrderedDict([('sparse_categorical_accuracy', 0.6550989), ('loss', 1.0662543), ('num_examples', 40832), ('num_batches', 319)])\n"
          ]
        },
        {
          "output_type": "stream",
          "name": "stderr",
          "text": [
            "<ipython-input-65-261a4597242a>:34: FutureWarning: The frame.append method is deprecated and will be removed from pandas in a future version. Use pandas.concat instead.\n",
            "  data_frame = data_frame.append({'Round': round,\n"
          ]
        },
        {
          "output_type": "stream",
          "name": "stdout",
          "text": [
            "Round  20: OrderedDict([('sparse_categorical_accuracy', 0.6953615), ('loss', 1.0053197), ('num_examples', 40832), ('num_batches', 319)])\n"
          ]
        },
        {
          "output_type": "stream",
          "name": "stderr",
          "text": [
            "<ipython-input-65-261a4597242a>:34: FutureWarning: The frame.append method is deprecated and will be removed from pandas in a future version. Use pandas.concat instead.\n",
            "  data_frame = data_frame.append({'Round': round,\n"
          ]
        },
        {
          "output_type": "stream",
          "name": "stdout",
          "text": [
            "Round  25: OrderedDict([('sparse_categorical_accuracy', 0.70829254), ('loss', 0.980525), ('num_examples', 40832), ('num_batches', 319)])\n"
          ]
        },
        {
          "output_type": "stream",
          "name": "stderr",
          "text": [
            "<ipython-input-65-261a4597242a>:34: FutureWarning: The frame.append method is deprecated and will be removed from pandas in a future version. Use pandas.concat instead.\n",
            "  data_frame = data_frame.append({'Round': round,\n",
            "<ipython-input-65-261a4597242a>:34: FutureWarning: The frame.append method is deprecated and will be removed from pandas in a future version. Use pandas.concat instead.\n",
            "  data_frame = data_frame.append({'Round': round,\n",
            "<ipython-input-65-261a4597242a>:34: FutureWarning: The frame.append method is deprecated and will be removed from pandas in a future version. Use pandas.concat instead.\n",
            "  data_frame = data_frame.append({'Round': round,\n",
            "<ipython-input-65-261a4597242a>:34: FutureWarning: The frame.append method is deprecated and will be removed from pandas in a future version. Use pandas.concat instead.\n",
            "  data_frame = data_frame.append({'Round': round,\n",
            "<ipython-input-65-261a4597242a>:34: FutureWarning: The frame.append method is deprecated and will be removed from pandas in a future version. Use pandas.concat instead.\n",
            "  data_frame = data_frame.append({'Round': round,\n"
          ]
        },
        {
          "output_type": "stream",
          "name": "stdout",
          "text": [
            "Round  50: OrderedDict([('sparse_categorical_accuracy', 0.852787), ('loss', 0.6256422), ('num_examples', 40832), ('num_batches', 319)])\n",
            "\n",
            "Starting training with noise multiplier: 0.5\n"
          ]
        },
        {
          "output_type": "stream",
          "name": "stderr",
          "text": [
            "<ipython-input-65-261a4597242a>:56: FutureWarning: The frame.append method is deprecated and will be removed from pandas in a future version. Use pandas.concat instead.\n",
            "  data_frame = data_frame.append({'Round': rounds,\n",
            "<ipython-input-65-261a4597242a>:24: DeprecationWarning: `tff.learning.build_federated_evaluation` is deprecated, use `tff.learning.algorithms.build_fed_eval` instead.\n",
            "  eval_process = tff.learning.build_federated_evaluation(my_model_fn)\n"
          ]
        },
        {
          "output_type": "stream",
          "name": "stdout",
          "text": [
            "Round   0: OrderedDict([('sparse_categorical_accuracy', 0.045895375), ('loss', 2.4864087), ('num_examples', 40832), ('num_batches', 319)])\n"
          ]
        },
        {
          "output_type": "stream",
          "name": "stderr",
          "text": [
            "<ipython-input-65-261a4597242a>:34: FutureWarning: The frame.append method is deprecated and will be removed from pandas in a future version. Use pandas.concat instead.\n",
            "  data_frame = data_frame.append({'Round': round,\n"
          ]
        },
        {
          "output_type": "stream",
          "name": "stdout",
          "text": [
            "Round   5: OrderedDict([('sparse_categorical_accuracy', 0.55958563), ('loss', 1.9963222), ('num_examples', 40832), ('num_batches', 319)])\n"
          ]
        },
        {
          "output_type": "stream",
          "name": "stderr",
          "text": [
            "<ipython-input-65-261a4597242a>:34: FutureWarning: The frame.append method is deprecated and will be removed from pandas in a future version. Use pandas.concat instead.\n",
            "  data_frame = data_frame.append({'Round': round,\n"
          ]
        },
        {
          "output_type": "stream",
          "name": "stdout",
          "text": [
            "Round  10: OrderedDict([('sparse_categorical_accuracy', 0.596297), ('loss', 1.3788188), ('num_examples', 40832), ('num_batches', 319)])\n"
          ]
        },
        {
          "output_type": "stream",
          "name": "stderr",
          "text": [
            "<ipython-input-65-261a4597242a>:34: FutureWarning: The frame.append method is deprecated and will be removed from pandas in a future version. Use pandas.concat instead.\n",
            "  data_frame = data_frame.append({'Round': round,\n"
          ]
        },
        {
          "output_type": "stream",
          "name": "stdout",
          "text": [
            "Round  15: OrderedDict([('sparse_categorical_accuracy', 0.69156545), ('loss', 1.0888534), ('num_examples', 40832), ('num_batches', 319)])\n"
          ]
        },
        {
          "output_type": "stream",
          "name": "stderr",
          "text": [
            "<ipython-input-65-261a4597242a>:34: FutureWarning: The frame.append method is deprecated and will be removed from pandas in a future version. Use pandas.concat instead.\n",
            "  data_frame = data_frame.append({'Round': round,\n"
          ]
        },
        {
          "output_type": "stream",
          "name": "stdout",
          "text": [
            "Round  20: OrderedDict([('sparse_categorical_accuracy', 0.59534186), ('loss', 1.0726193), ('num_examples', 40832), ('num_batches', 319)])\n"
          ]
        },
        {
          "output_type": "stream",
          "name": "stderr",
          "text": [
            "<ipython-input-65-261a4597242a>:34: FutureWarning: The frame.append method is deprecated and will be removed from pandas in a future version. Use pandas.concat instead.\n",
            "  data_frame = data_frame.append({'Round': round,\n"
          ]
        },
        {
          "output_type": "stream",
          "name": "stdout",
          "text": [
            "Round  25: OrderedDict([('sparse_categorical_accuracy', 0.6966595), ('loss', 0.97046024), ('num_examples', 40832), ('num_batches', 319)])\n"
          ]
        },
        {
          "output_type": "stream",
          "name": "stderr",
          "text": [
            "<ipython-input-65-261a4597242a>:34: FutureWarning: The frame.append method is deprecated and will be removed from pandas in a future version. Use pandas.concat instead.\n",
            "  data_frame = data_frame.append({'Round': round,\n",
            "<ipython-input-65-261a4597242a>:34: FutureWarning: The frame.append method is deprecated and will be removed from pandas in a future version. Use pandas.concat instead.\n",
            "  data_frame = data_frame.append({'Round': round,\n",
            "<ipython-input-65-261a4597242a>:34: FutureWarning: The frame.append method is deprecated and will be removed from pandas in a future version. Use pandas.concat instead.\n",
            "  data_frame = data_frame.append({'Round': round,\n",
            "<ipython-input-65-261a4597242a>:34: FutureWarning: The frame.append method is deprecated and will be removed from pandas in a future version. Use pandas.concat instead.\n",
            "  data_frame = data_frame.append({'Round': round,\n",
            "<ipython-input-65-261a4597242a>:34: FutureWarning: The frame.append method is deprecated and will be removed from pandas in a future version. Use pandas.concat instead.\n",
            "  data_frame = data_frame.append({'Round': round,\n"
          ]
        },
        {
          "output_type": "stream",
          "name": "stdout",
          "text": [
            "Round  50: OrderedDict([('sparse_categorical_accuracy', 0.8012098), ('loss', 0.6544096), ('num_examples', 40832), ('num_batches', 319)])\n",
            "\n",
            "Starting training with noise multiplier: 0.75\n"
          ]
        },
        {
          "output_type": "stream",
          "name": "stderr",
          "text": [
            "<ipython-input-65-261a4597242a>:56: FutureWarning: The frame.append method is deprecated and will be removed from pandas in a future version. Use pandas.concat instead.\n",
            "  data_frame = data_frame.append({'Round': rounds,\n",
            "<ipython-input-65-261a4597242a>:24: DeprecationWarning: `tff.learning.build_federated_evaluation` is deprecated, use `tff.learning.algorithms.build_fed_eval` instead.\n",
            "  eval_process = tff.learning.build_federated_evaluation(my_model_fn)\n"
          ]
        },
        {
          "output_type": "stream",
          "name": "stdout",
          "text": [
            "Round   0: OrderedDict([('sparse_categorical_accuracy', 0.055373237), ('loss', 2.4225154), ('num_examples', 40832), ('num_batches', 319)])\n"
          ]
        },
        {
          "output_type": "stream",
          "name": "stderr",
          "text": [
            "<ipython-input-65-261a4597242a>:34: FutureWarning: The frame.append method is deprecated and will be removed from pandas in a future version. Use pandas.concat instead.\n",
            "  data_frame = data_frame.append({'Round': round,\n"
          ]
        },
        {
          "output_type": "stream",
          "name": "stdout",
          "text": [
            "Round   5: OrderedDict([('sparse_categorical_accuracy', 0.5906397), ('loss', 2.0035584), ('num_examples', 40832), ('num_batches', 319)])\n"
          ]
        },
        {
          "output_type": "stream",
          "name": "stderr",
          "text": [
            "<ipython-input-65-261a4597242a>:34: FutureWarning: The frame.append method is deprecated and will be removed from pandas in a future version. Use pandas.concat instead.\n",
            "  data_frame = data_frame.append({'Round': round,\n"
          ]
        },
        {
          "output_type": "stream",
          "name": "stdout",
          "text": [
            "Round  10: OrderedDict([('sparse_categorical_accuracy', 0.5919132), ('loss', 1.3491273), ('num_examples', 40832), ('num_batches', 319)])\n"
          ]
        },
        {
          "output_type": "stream",
          "name": "stderr",
          "text": [
            "<ipython-input-65-261a4597242a>:34: FutureWarning: The frame.append method is deprecated and will be removed from pandas in a future version. Use pandas.concat instead.\n",
            "  data_frame = data_frame.append({'Round': round,\n"
          ]
        },
        {
          "output_type": "stream",
          "name": "stdout",
          "text": [
            "Round  15: OrderedDict([('sparse_categorical_accuracy', 0.63690245), ('loss', 1.0746255), ('num_examples', 40832), ('num_batches', 319)])\n"
          ]
        },
        {
          "output_type": "stream",
          "name": "stderr",
          "text": [
            "<ipython-input-65-261a4597242a>:34: FutureWarning: The frame.append method is deprecated and will be removed from pandas in a future version. Use pandas.concat instead.\n",
            "  data_frame = data_frame.append({'Round': round,\n"
          ]
        },
        {
          "output_type": "stream",
          "name": "stdout",
          "text": [
            "Round  20: OrderedDict([('sparse_categorical_accuracy', 0.7400813), ('loss', 1.0218886), ('num_examples', 40832), ('num_batches', 319)])\n"
          ]
        },
        {
          "output_type": "stream",
          "name": "stderr",
          "text": [
            "<ipython-input-65-261a4597242a>:34: FutureWarning: The frame.append method is deprecated and will be removed from pandas in a future version. Use pandas.concat instead.\n",
            "  data_frame = data_frame.append({'Round': round,\n"
          ]
        },
        {
          "output_type": "stream",
          "name": "stdout",
          "text": [
            "Round  25: OrderedDict([('sparse_categorical_accuracy', 0.70799863), ('loss', 0.9546951), ('num_examples', 40832), ('num_batches', 319)])\n"
          ]
        },
        {
          "output_type": "stream",
          "name": "stderr",
          "text": [
            "<ipython-input-65-261a4597242a>:34: FutureWarning: The frame.append method is deprecated and will be removed from pandas in a future version. Use pandas.concat instead.\n",
            "  data_frame = data_frame.append({'Round': round,\n",
            "<ipython-input-65-261a4597242a>:34: FutureWarning: The frame.append method is deprecated and will be removed from pandas in a future version. Use pandas.concat instead.\n",
            "  data_frame = data_frame.append({'Round': round,\n",
            "<ipython-input-65-261a4597242a>:34: FutureWarning: The frame.append method is deprecated and will be removed from pandas in a future version. Use pandas.concat instead.\n",
            "  data_frame = data_frame.append({'Round': round,\n",
            "<ipython-input-65-261a4597242a>:34: FutureWarning: The frame.append method is deprecated and will be removed from pandas in a future version. Use pandas.concat instead.\n",
            "  data_frame = data_frame.append({'Round': round,\n",
            "<ipython-input-65-261a4597242a>:34: FutureWarning: The frame.append method is deprecated and will be removed from pandas in a future version. Use pandas.concat instead.\n",
            "  data_frame = data_frame.append({'Round': round,\n"
          ]
        },
        {
          "output_type": "stream",
          "name": "stdout",
          "text": [
            "Round  50: OrderedDict([('sparse_categorical_accuracy', 0.7942545), ('loss', 0.6504373), ('num_examples', 40832), ('num_batches', 319)])\n",
            "\n",
            "Starting training with noise multiplier: 1.0\n"
          ]
        },
        {
          "output_type": "stream",
          "name": "stderr",
          "text": [
            "<ipython-input-65-261a4597242a>:56: FutureWarning: The frame.append method is deprecated and will be removed from pandas in a future version. Use pandas.concat instead.\n",
            "  data_frame = data_frame.append({'Round': rounds,\n",
            "<ipython-input-65-261a4597242a>:24: DeprecationWarning: `tff.learning.build_federated_evaluation` is deprecated, use `tff.learning.algorithms.build_fed_eval` instead.\n",
            "  eval_process = tff.learning.build_federated_evaluation(my_model_fn)\n"
          ]
        },
        {
          "output_type": "stream",
          "name": "stdout",
          "text": [
            "Round   0: OrderedDict([('sparse_categorical_accuracy', 0.04724236), ('loss', 2.4586155), ('num_examples', 40832), ('num_batches', 319)])\n"
          ]
        },
        {
          "output_type": "stream",
          "name": "stderr",
          "text": [
            "<ipython-input-65-261a4597242a>:34: FutureWarning: The frame.append method is deprecated and will be removed from pandas in a future version. Use pandas.concat instead.\n",
            "  data_frame = data_frame.append({'Round': round,\n"
          ]
        },
        {
          "output_type": "stream",
          "name": "stdout",
          "text": [
            "Round   5: OrderedDict([('sparse_categorical_accuracy', 0.55429566), ('loss', 2.0743012), ('num_examples', 40832), ('num_batches', 319)])\n"
          ]
        },
        {
          "output_type": "stream",
          "name": "stderr",
          "text": [
            "<ipython-input-65-261a4597242a>:34: FutureWarning: The frame.append method is deprecated and will be removed from pandas in a future version. Use pandas.concat instead.\n",
            "  data_frame = data_frame.append({'Round': round,\n"
          ]
        },
        {
          "output_type": "stream",
          "name": "stdout",
          "text": [
            "Round  10: OrderedDict([('sparse_categorical_accuracy', 0.5577733), ('loss', 1.493549), ('num_examples', 40832), ('num_batches', 319)])\n"
          ]
        },
        {
          "output_type": "stream",
          "name": "stderr",
          "text": [
            "<ipython-input-65-261a4597242a>:34: FutureWarning: The frame.append method is deprecated and will be removed from pandas in a future version. Use pandas.concat instead.\n",
            "  data_frame = data_frame.append({'Round': round,\n"
          ]
        },
        {
          "output_type": "stream",
          "name": "stdout",
          "text": [
            "Round  15: OrderedDict([('sparse_categorical_accuracy', 0.5919132), ('loss', 1.1023368), ('num_examples', 40832), ('num_batches', 319)])\n"
          ]
        },
        {
          "output_type": "stream",
          "name": "stderr",
          "text": [
            "<ipython-input-65-261a4597242a>:34: FutureWarning: The frame.append method is deprecated and will be removed from pandas in a future version. Use pandas.concat instead.\n",
            "  data_frame = data_frame.append({'Round': round,\n"
          ]
        },
        {
          "output_type": "stream",
          "name": "stdout",
          "text": [
            "Round  20: OrderedDict([('sparse_categorical_accuracy', 0.7285952), ('loss', 1.0226853), ('num_examples', 40832), ('num_batches', 319)])\n"
          ]
        },
        {
          "output_type": "stream",
          "name": "stderr",
          "text": [
            "<ipython-input-65-261a4597242a>:34: FutureWarning: The frame.append method is deprecated and will be removed from pandas in a future version. Use pandas.concat instead.\n",
            "  data_frame = data_frame.append({'Round': round,\n"
          ]
        },
        {
          "output_type": "stream",
          "name": "stdout",
          "text": [
            "Round  25: OrderedDict([('sparse_categorical_accuracy', 0.7243583), ('loss', 1.004676), ('num_examples', 40832), ('num_batches', 319)])\n"
          ]
        },
        {
          "output_type": "stream",
          "name": "stderr",
          "text": [
            "<ipython-input-65-261a4597242a>:34: FutureWarning: The frame.append method is deprecated and will be removed from pandas in a future version. Use pandas.concat instead.\n",
            "  data_frame = data_frame.append({'Round': round,\n",
            "<ipython-input-65-261a4597242a>:34: FutureWarning: The frame.append method is deprecated and will be removed from pandas in a future version. Use pandas.concat instead.\n",
            "  data_frame = data_frame.append({'Round': round,\n",
            "<ipython-input-65-261a4597242a>:34: FutureWarning: The frame.append method is deprecated and will be removed from pandas in a future version. Use pandas.concat instead.\n",
            "  data_frame = data_frame.append({'Round': round,\n",
            "<ipython-input-65-261a4597242a>:34: FutureWarning: The frame.append method is deprecated and will be removed from pandas in a future version. Use pandas.concat instead.\n",
            "  data_frame = data_frame.append({'Round': round,\n",
            "<ipython-input-65-261a4597242a>:34: FutureWarning: The frame.append method is deprecated and will be removed from pandas in a future version. Use pandas.concat instead.\n",
            "  data_frame = data_frame.append({'Round': round,\n"
          ]
        },
        {
          "output_type": "stream",
          "name": "stdout",
          "text": [
            "Round  50: OrderedDict([('sparse_categorical_accuracy', 0.80539775), ('loss', 0.6153425), ('num_examples', 40832), ('num_batches', 319)])\n",
            "\n"
          ]
        },
        {
          "output_type": "stream",
          "name": "stderr",
          "text": [
            "<ipython-input-65-261a4597242a>:56: FutureWarning: The frame.append method is deprecated and will be removed from pandas in a future version. Use pandas.concat instead.\n",
            "  data_frame = data_frame.append({'Round': rounds,\n"
          ]
        }
      ]
    },
    {
      "cell_type": "code",
      "source": [
        "import matplotlib.pyplot as plt\n",
        "import seaborn as sns\n",
        "\n",
        "def make_plot(data_frame):\n",
        "  plt.figure(figsize=(15, 5))\n",
        "\n",
        "  dff = data_frame.rename(\n",
        "      columns={'sparse_categorical_accuracy': 'Accuracy', 'loss': 'Loss'})\n",
        "\n",
        "  plt.subplot(121)\n",
        "  sns.lineplot(data=dff, x='Round', y='Accuracy', hue='NoiseMultiplier', palette='dark')\n",
        "  plt.subplot(122)\n",
        "  sns.lineplot(data=dff, x='Round', y='Loss', hue='NoiseMultiplier', palette='dark')"
      ],
      "metadata": {
        "id": "Kcypq20mIe1k"
      },
      "execution_count": null,
      "outputs": []
    },
    {
      "cell_type": "code",
      "source": [
        "make_plot(data_frame)"
      ],
      "metadata": {
        "colab": {
          "base_uri": "https://localhost:8080/",
          "height": 465
        },
        "id": "hnLO5Bu4IwhE",
        "outputId": "c72f1847-b90b-40d0-f0a4-0b9c371aeaaf"
      },
      "execution_count": null,
      "outputs": [
        {
          "output_type": "display_data",
          "data": {
            "text/plain": [
              "<Figure size 1500x500 with 2 Axes>"
            ],
            "image/png": "[encoded data removed]"
          },
          "metadata": {}
        }
      ]
    },
    {
      "cell_type": "code",
      "source": [
        "total_clients = 3383\n",
        "noise_to_clients_ratio = 0.01\n",
        "target_delta = 1e-5\n",
        "target_eps = 2\n",
        "\n",
        "# Initialize arguments to dp_accounting.calibrate_dp_mechanism\n",
        "# No-arg callable that returns a fresh accountant\n",
        "make_fresh_accountant = dp_accounting.rdp.RdpAccountant\n",
        "# Create function that takes expected clients per round and returns a \n",
        "# dp_accounting.DpEvent representing the full training process\n",
        "def make_event_from_param(clients_per_round):\n",
        "  q = clients_per_round / total_clients\n",
        "  noise_multiplier = clients_per_round * noise_to_clients_ratio\n",
        "  gaussian_event = dp_accounting.GaussianDpEvent(noise_multiplier)\n",
        "  sampled_event = dp_accounting.PoissonSampledDpEvent(q, gaussian_event)\n",
        "  composed_event = dp_accounting.SelfComposedDpEvent(sampled_event, rounds)\n",
        "  return composed_event\n",
        "# Create object representing the search range [1, 3383].\n",
        "bracket_interval = dp_accounting.ExplicitBracketInterval(1, total_clients)\n",
        "# Perform search for smallest clients_per_round achieving the target privacy.\n",
        "clients_per_round = dp_accounting.calibrate_dp_mechanism(\n",
        "    make_fresh_accountant, make_event_from_param, target_eps, target_delta,\n",
        "    bracket_interval, discrete=True\n",
        ")\n",
        "noise_multiplier = clients_per_round * noise_to_clients_ratio\n",
        "print(f'To get ({target_eps}, {target_delta})-DP, use {clients_per_round} '\n",
        "      f'clients with noise multiplier {noise_multiplier}.')"
      ],
      "metadata": {
        "colab": {
          "base_uri": "https://localhost:8080/"
        },
        "id": "ljnCnSSiI5EA",
        "outputId": "4f02b451-81e9-455e-abe0-ddf2f0efc3cb"
      },
      "execution_count": null,
      "outputs": [
        {
          "output_type": "stream",
          "name": "stdout",
          "text": [
            "To get (2, 1e-05)-DP, use 104 clients with noise multiplier 1.04.\n"
          ]
        }
      ]
    },
    {
      "cell_type": "code",
      "source": [
        "rounds = 50\n",
        "noise_multiplier = 1.2\n",
        "clients_per_round = 50\n",
        "data_frame = pd.DataFrame()\n",
        "data_frame = train(rounds, noise_multiplier, clients_per_round, data_frame)\n",
        "make_plot(data_frame)"
      ],
      "metadata": {
        "colab": {
          "base_uri": "https://localhost:8080/",
          "height": 1000
        },
        "id": "ATDJxT5UJSZh",
        "outputId": "e87ab19c-17c5-417d-af3c-60c267b31cfd"
      },
      "execution_count": null,
      "outputs": [
        {
          "output_type": "stream",
          "name": "stderr",
          "text": [
            "<ipython-input-65-261a4597242a>:24: DeprecationWarning: `tff.learning.build_federated_evaluation` is deprecated, use `tff.learning.algorithms.build_fed_eval` instead.\n",
            "  eval_process = tff.learning.build_federated_evaluation(my_model_fn)\n"
          ]
        },
        {
          "output_type": "stream",
          "name": "stdout",
          "text": [
            "Round   0: OrderedDict([('sparse_categorical_accuracy', 0.057014108), ('loss', 2.4906313), ('num_examples', 40832), ('num_batches', 319)])\n"
          ]
        },
        {
          "output_type": "stream",
          "name": "stderr",
          "text": [
            "<ipython-input-65-261a4597242a>:34: FutureWarning: The frame.append method is deprecated and will be removed from pandas in a future version. Use pandas.concat instead.\n",
            "  data_frame = data_frame.append({'Round': round,\n"
          ]
        },
        {
          "output_type": "stream",
          "name": "stdout",
          "text": [
            "Round   5: OrderedDict([('sparse_categorical_accuracy', 0.5501078), ('loss', 1.9681026), ('num_examples', 40832), ('num_batches', 319)])\n"
          ]
        },
        {
          "output_type": "stream",
          "name": "stderr",
          "text": [
            "<ipython-input-65-261a4597242a>:34: FutureWarning: The frame.append method is deprecated and will be removed from pandas in a future version. Use pandas.concat instead.\n",
            "  data_frame = data_frame.append({'Round': round,\n"
          ]
        },
        {
          "output_type": "stream",
          "name": "stdout",
          "text": [
            "Round  10: OrderedDict([('sparse_categorical_accuracy', 0.608028), ('loss', 1.2994049), ('num_examples', 40832), ('num_batches', 319)])\n"
          ]
        },
        {
          "output_type": "stream",
          "name": "stderr",
          "text": [
            "<ipython-input-65-261a4597242a>:34: FutureWarning: The frame.append method is deprecated and will be removed from pandas in a future version. Use pandas.concat instead.\n",
            "  data_frame = data_frame.append({'Round': round,\n"
          ]
        },
        {
          "output_type": "stream",
          "name": "stdout",
          "text": [
            "Round  15: OrderedDict([('sparse_categorical_accuracy', 0.6468701), ('loss', 1.0745738), ('num_examples', 40832), ('num_batches', 319)])\n"
          ]
        },
        {
          "output_type": "stream",
          "name": "stderr",
          "text": [
            "<ipython-input-65-261a4597242a>:34: FutureWarning: The frame.append method is deprecated and will be removed from pandas in a future version. Use pandas.concat instead.\n",
            "  data_frame = data_frame.append({'Round': round,\n"
          ]
        },
        {
          "output_type": "stream",
          "name": "stdout",
          "text": [
            "Round  20: OrderedDict([('sparse_categorical_accuracy', 0.6850999), ('loss', 1.0158396), ('num_examples', 40832), ('num_batches', 319)])\n"
          ]
        },
        {
          "output_type": "stream",
          "name": "stderr",
          "text": [
            "<ipython-input-65-261a4597242a>:34: FutureWarning: The frame.append method is deprecated and will be removed from pandas in a future version. Use pandas.concat instead.\n",
            "  data_frame = data_frame.append({'Round': round,\n"
          ]
        },
        {
          "output_type": "stream",
          "name": "stdout",
          "text": [
            "Round  25: OrderedDict([('sparse_categorical_accuracy', 0.73030955), ('loss', 0.93888104), ('num_examples', 40832), ('num_batches', 319)])\n"
          ]
        },
        {
          "output_type": "stream",
          "name": "stderr",
          "text": [
            "<ipython-input-65-261a4597242a>:34: FutureWarning: The frame.append method is deprecated and will be removed from pandas in a future version. Use pandas.concat instead.\n",
            "  data_frame = data_frame.append({'Round': round,\n",
            "<ipython-input-65-261a4597242a>:34: FutureWarning: The frame.append method is deprecated and will be removed from pandas in a future version. Use pandas.concat instead.\n",
            "  data_frame = data_frame.append({'Round': round,\n",
            "<ipython-input-65-261a4597242a>:34: FutureWarning: The frame.append method is deprecated and will be removed from pandas in a future version. Use pandas.concat instead.\n",
            "  data_frame = data_frame.append({'Round': round,\n",
            "<ipython-input-65-261a4597242a>:34: FutureWarning: The frame.append method is deprecated and will be removed from pandas in a future version. Use pandas.concat instead.\n",
            "  data_frame = data_frame.append({'Round': round,\n",
            "<ipython-input-65-261a4597242a>:34: FutureWarning: The frame.append method is deprecated and will be removed from pandas in a future version. Use pandas.concat instead.\n",
            "  data_frame = data_frame.append({'Round': round,\n"
          ]
        },
        {
          "output_type": "stream",
          "name": "stdout",
          "text": [
            "Round  50: OrderedDict([('sparse_categorical_accuracy', 0.81974924), ('loss', 0.57725596), ('num_examples', 40832), ('num_batches', 319)])\n"
          ]
        },
        {
          "output_type": "stream",
          "name": "stderr",
          "text": [
            "<ipython-input-65-261a4597242a>:56: FutureWarning: The frame.append method is deprecated and will be removed from pandas in a future version. Use pandas.concat instead.\n",
            "  data_frame = data_frame.append({'Round': rounds,\n"
          ]
        },
        {
          "output_type": "display_data",
          "data": {
            "text/plain": [
              "<Figure size 1500x500 with 2 Axes>"
            ],
            "image/png": "[encoded data removed]"
          },
          "metadata": {}
        }
      ]
    }
  ]
}